{
  "nbformat": 4,
  "nbformat_minor": 0,
  "metadata": {
    "colab": {
      "provenance": []
    },
    "kernelspec": {
      "name": "python3",
      "display_name": "Python 3"
    },
    "language_info": {
      "name": "python"
    }
  },
  "cells": [
    {
      "cell_type": "code",
      "execution_count": 2,
      "metadata": {
        "colab": {
          "base_uri": "https://localhost:8080/"
        },
        "id": "8Npspck_lNG-",
        "outputId": "3fe32c70-883c-459e-ab59-c1ecbc1c7d12"
      },
      "outputs": [
        {
          "output_type": "stream",
          "name": "stderr",
          "text": [
            "No model was supplied, defaulted to distilbert/distilbert-base-uncased-finetuned-sst-2-english and revision 714eb0f (https://huggingface.co/distilbert/distilbert-base-uncased-finetuned-sst-2-english).\n",
            "Using a pipeline without specifying a model name and revision in production is not recommended.\n",
            "Device set to use cpu\n"
          ]
        },
        {
          "output_type": "stream",
          "name": "stdout",
          "text": [
            "\n",
            "Assignment 6: Advanced Sentiment Analysis\n",
            "Sentiment Analysis Result: [{'label': 'POSITIVE', 'score': 0.997187077999115}]\n"
          ]
        }
      ],
      "source": [
        "# Assignment 6: Advanced Sentiment Analysis\n",
        "from transformers import pipeline\n",
        "\n",
        "print(\"\\nAssignment 6: Advanced Sentiment Analysis\")\n",
        "sentiment_model = pipeline(\"sentiment-analysis\")\n",
        "\n",
        "# Define the document variable with the text for sentiment analysis\n",
        "document = \"This is an example document for sentiment analysis.\"  # Replace with your desired text\n",
        "\n",
        "sentiment_result = sentiment_model(document)\n",
        "print(\"Sentiment Analysis Result:\", sentiment_result)"
      ]
    }
  ]
}