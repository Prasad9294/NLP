{
  "nbformat": 4,
  "nbformat_minor": 0,
  "metadata": {
    "colab": {
      "provenance": []
    },
    "kernelspec": {
      "name": "python3",
      "display_name": "Python 3"
    },
    "language_info": {
      "name": "python"
    }
  },
  "cells": [
    {
      "cell_type": "code",
      "execution_count": 4,
      "metadata": {
        "colab": {
          "base_uri": "https://localhost:8080/"
        },
        "id": "DMF0Im4IjKdy",
        "outputId": "3ebbe3fd-5597-4b95-f5a4-5ece758c31eb"
      },
      "outputs": [
        {
          "output_type": "stream",
          "name": "stdout",
          "text": [
            "\n",
            "Assignment 3: Text Cleaning & Stopwords Removal\n",
            "Cleaned Text: ['example', 'document', 'contains', 'words', 'including', 'stopwords']\n"
          ]
        },
        {
          "output_type": "stream",
          "name": "stderr",
          "text": [
            "[nltk_data] Downloading package stopwords to /root/nltk_data...\n",
            "[nltk_data]   Package stopwords is already up-to-date!\n",
            "[nltk_data] Downloading package punkt_tab to /root/nltk_data...\n",
            "[nltk_data]   Unzipping tokenizers/punkt_tab.zip.\n"
          ]
        }
      ],
      "source": [
        "# Assignment 3: Text Cleaning & Stopwords Removal\n",
        "import nltk\n",
        "from nltk.corpus import stopwords\n",
        "import re\n",
        "from nltk.tokenize import word_tokenize\n",
        "\n",
        "# Download necessary NLTK data packages\n",
        "nltk.download('stopwords')\n",
        "nltk.download('punkt_tab') # Download the punkt_tab resource\n",
        "\n",
        "print(\"\\nAssignment 3: Text Cleaning & Stopwords Removal\")\n",
        "stop_words = set(stopwords.words(\"english\"))\n",
        "\n",
        "def clean_text(text):\n",
        "    text = re.sub(r'[^a-zA-Z ]', '', text.lower())\n",
        "    words = word_tokenize(text)\n",
        "    words = [w for w in words if w not in stop_words]\n",
        "    return words\n",
        "\n",
        "# Define the document variable before using it.\n",
        "# Replace this with your actual text data.\n",
        "document = \"This is an example document. It contains some words, including stopwords!\"\n",
        "\n",
        "cleaned_text = clean_text(document)\n",
        "print(\"Cleaned Text:\", cleaned_text)"
      ]
    }
  ]
}