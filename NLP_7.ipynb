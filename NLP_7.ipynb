{
  "nbformat": 4,
  "nbformat_minor": 0,
  "metadata": {
    "colab": {
      "provenance": []
    },
    "kernelspec": {
      "name": "python3",
      "display_name": "Python 3"
    },
    "language_info": {
      "name": "python"
    }
  },
  "cells": [
    {
      "cell_type": "code",
      "execution_count": 5,
      "metadata": {
        "id": "ppcpDWTQlpwt"
      },
      "outputs": [],
      "source": [
        "import nltk\n",
        "import random\n",
        "import re\n",
        "from collections import defaultdict\n",
        "from nltk.tokenize import word_tokenize\n",
        "from nltk.util import ngrams\n",
        "from nltk.corpus import reuters"
      ]
    },
    {
      "cell_type": "code",
      "source": [
        "nltk.download(\"punkt\")\n",
        "nltk.download(\"reuters\")"
      ],
      "metadata": {
        "colab": {
          "base_uri": "https://localhost:8080/"
        },
        "id": "RE5kSPLGnqTc",
        "outputId": "c2680046-2c55-4441-aa79-d7cef843d1d7"
      },
      "execution_count": 6,
      "outputs": [
        {
          "output_type": "stream",
          "name": "stderr",
          "text": [
            "[nltk_data] Downloading package punkt to /root/nltk_data...\n",
            "[nltk_data]   Package punkt is already up-to-date!\n",
            "[nltk_data] Downloading package reuters to /root/nltk_data...\n"
          ]
        },
        {
          "output_type": "execute_result",
          "data": {
            "text/plain": [
              "True"
            ]
          },
          "metadata": {},
          "execution_count": 6
        }
      ]
    },
    {
      "cell_type": "code",
      "source": [
        "corpus = \" \".join(reuters.words()).lower()\n",
        "\n",
        "corpus = re.sub(r\"[^a-z\\s]\", \"\", corpus)\n",
        "\n",
        "tokens = word_tokenize(corpus)\n",
        "\n",
        "n = 2\n",
        "ngrams_list = list(ngrams(tokens, n))\n",
        "\n",
        "ngram_freq = defaultdict(lambda: defaultdict(int))\n",
        "\n",
        "for gram in ngrams_list:\n",
        "    prev_word, next_word = gram[0], gram[1]\n",
        "    ngram_freq[prev_word][next_word] += 1\n",
        "\n",
        "ngram_prob = {}\n",
        "for prev_word in ngram_freq:\n",
        "    total_count = sum(ngram_freq[prev_word].values())\n",
        "    ngram_prob[prev_word] = {word: count / total_count for word, count in ngram_freq[prev_word].items()}\n",
        "\n",
        "def predict_next_word(prev_word, top_k=3):\n",
        "    if prev_word in ngram_prob:\n",
        "        sorted_predictions = sorted(ngram_prob[prev_word].items(), key=lambda x: x[1], reverse=True)\n",
        "        return [word for word, prob in sorted_predictions[:top_k]]\n",
        "    else:\n",
        "        return [\"No prediction available\"]"
      ],
      "metadata": {
        "id": "bANBmukQnqYo"
      },
      "execution_count": 7,
      "outputs": []
    },
    {
      "cell_type": "code",
      "source": [
        "input_text = input(\"Enter a word to predict next: \")\n",
        "predictions = predict_next_word(input_text)\n",
        "\n",
        "print(f\"Predictions for '{input_text}': {predictions}\")"
      ],
      "metadata": {
        "colab": {
          "base_uri": "https://localhost:8080/"
        },
        "id": "_lCXgL8HnyeK",
        "outputId": "eb5b92aa-f478-4e80-f5cc-5a14166174f1"
      },
      "execution_count": 9,
      "outputs": [
        {
          "output_type": "stream",
          "name": "stdout",
          "text": [
            "Enter a word to predict next: finance\n",
            "Predictions for 'finance': ['minister', 'ministry', 'ministers']\n"
          ]
        }
      ]
    }
  ]
}