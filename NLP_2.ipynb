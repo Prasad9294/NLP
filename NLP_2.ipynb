{
  "nbformat": 4,
  "nbformat_minor": 0,
  "metadata": {
    "colab": {
      "provenance": []
    },
    "kernelspec": {
      "name": "python3",
      "display_name": "Python 3"
    },
    "language_info": {
      "name": "python"
    }
  },
  "cells": [
    {
      "cell_type": "code",
      "execution_count": 2,
      "metadata": {
        "colab": {
          "base_uri": "https://localhost:8080/"
        },
        "id": "23mqkmJgir0d",
        "outputId": "9c3f0ef8-3f43-40de-cee6-6dc8f2064ffc"
      },
      "outputs": [
        {
          "output_type": "stream",
          "name": "stdout",
          "text": [
            "\n",
            "Assignment 2: Bag-of-Words & TF-IDF\n",
            "Bag-of-Words Representation: [[1 1 1 1 1 1 1 1 1 1 1 1 1 1]]\n",
            "TF-IDF Representation: [[0.26726124 0.26726124 0.26726124 0.26726124 0.26726124 0.26726124\n",
            "  0.26726124 0.26726124 0.26726124 0.26726124 0.26726124 0.26726124\n",
            "  0.26726124 0.26726124]]\n"
          ]
        }
      ],
      "source": [
        "# Assignment 2: Bag-of-Words & TF-IDF\n",
        "import re\n",
        "import numpy as np\n",
        "from sklearn.feature_extraction.text import CountVectorizer, TfidfVectorizer\n",
        "\n",
        "print(\"\\nAssignment 2: Bag-of-Words & TF-IDF\")\n",
        "\n",
        "# Define the document variable with some text content\n",
        "document = \"This is an example document for the Bag-of-Words and TF-IDF demonstration.\"\n",
        "\n",
        "vectorizer = CountVectorizer()\n",
        "X = vectorizer.fit_transform([document])\n",
        "print(\"Bag-of-Words Representation:\", X.toarray())\n",
        "\n",
        "tfidf = TfidfVectorizer()\n",
        "X_tfidf = tfidf.fit_transform([document])\n",
        "print(\"TF-IDF Representation:\", X_tfidf.toarray())"
      ]
    }
  ]
}